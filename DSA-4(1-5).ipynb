{
 "cells": [
  {
   "cell_type": "markdown",
   "id": "ce44bf16",
   "metadata": {},
   "source": [
    "### 1. Implement Binary tree\n"
   ]
  },
  {
   "cell_type": "code",
   "execution_count": null,
   "id": "b68b42de",
   "metadata": {},
   "outputs": [],
   "source": [
    "tree = [None] * 10\n",
    "\n",
    "\n",
    "def root(key):\n",
    "    if tree[0] != None:\n",
    "        print(\"Tree already had root\")\n",
    "    else:\n",
    "        tree[0] = key\n",
    "\n",
    "\n",
    "def set_left(key, parent):\n",
    "    if tree[parent] == None:\n",
    "        print(\"Can't set child at\", (parent * 2) + 1, \", no parent found\")\n",
    "    else:\n",
    "        tree[(parent * 2) + 1] = key\n",
    "\n",
    "\n",
    "def set_right(key, parent):\n",
    "    if tree[parent] == None:\n",
    "        print(\"Can't set child at\", (parent * 2) + 2, \", no parent found\")\n",
    "    else:\n",
    "        tree[(parent * 2) + 2] = key\n",
    "\n",
    "\n",
    "def print_tree():\n",
    "     for i in range(8):\n",
    "        if tree[i] != None:\n",
    "            print(tree[i], end='')\n",
    "        else:\n",
    "            print(\"-\",end='')\n",
    "        print()\n",
    "\n",
    "if __name__=='__main__':\n",
    "    root('A')\n",
    "    set_left('B', 0)\n",
    "    set_right('C', 0)\n",
    "    set_left('D', 1)\n",
    "    set_right('E', 1)\n",
    "    set_right('F', 2)\n",
    "    print_tree()\n"
   ]
  },
  {
   "cell_type": "markdown",
   "id": "336a6c88",
   "metadata": {},
   "source": [
    "### 2.Find height of a given tree\n"
   ]
  },
  {
   "cell_type": "code",
   "execution_count": 25,
   "id": "bb14beb2",
   "metadata": {},
   "outputs": [
    {
     "name": "stdout",
     "output_type": "stream",
     "text": [
      "Height(Depth) of tree is: 4\n"
     ]
    }
   ],
   "source": [
    "class TreeNode:\n",
    "    def __init__(self, val):\n",
    "        self.val = val\n",
    "        self.left = None\n",
    "        self.right = None\n",
    "def height(root):\n",
    "        if root is None:\n",
    "            return 0 \n",
    "        leftAns = height(root.left)\n",
    "        rightAns = height(root.right)\n",
    "        return max(leftAns, rightAns) + 1\n",
    "    \n",
    "if __name__=='__main__':\n",
    "    root = TreeNode(1)\n",
    "    root.left = TreeNode(2)\n",
    "    root.right = TreeNode(3)\n",
    "    root.left.left = TreeNode(4)\n",
    "    root.left.right=TreeNode(5)\n",
    "    root.right.left=TreeNode(6)\n",
    "    root.right.right=TreeNode(7)\n",
    "    root.right.left.left=TreeNode(8)\n",
    "    root.right.left.right=TreeNode(9)\n",
    "\n",
    "print(f\"Height(Depth) of tree is: {height(root)}\")\n",
    "\n"
   ]
  },
  {
   "cell_type": "markdown",
   "id": "89dc31a3",
   "metadata": {},
   "source": [
    "### 3. Perform Pre-order, Post-order, In-order traversal\n"
   ]
  },
  {
   "cell_type": "code",
   "execution_count": 21,
   "id": "6f53ccfd",
   "metadata": {},
   "outputs": [
    {
     "name": "stdout",
     "output_type": "stream",
     "text": [
      "\n",
      "preorder traversal of binary tree is\n",
      "1 2 4 5 3 6 7 \n",
      "Inorder traversal of binary tree is\n",
      "4 2 5 1 6 3 7 \n",
      "preorder traversal of binary tree is\n",
      "4 5 2 6 7 3 1 "
     ]
    }
   ],
   "source": [
    "class Node:\n",
    "    \n",
    "    def __init__(self,data):\n",
    "            self.left=None\n",
    "            self.right=None\n",
    "            self.data=data\n",
    "            \n",
    "def preorderprint(root):\n",
    "    if root:\n",
    "        print(root.data,end=\" \"),\n",
    "        preorderprint(root.left)\n",
    "        preorderprint(root.right)\n",
    "\n",
    "def inorderprint(root):\n",
    "    if root:\n",
    "        inorderprint(root.left)\n",
    "        print(root.data,end=\" \"),\n",
    "        inorderprint(root.right)\n",
    "                    \n",
    "def postorderprint(root):\n",
    "    if root:\n",
    "        postorderprint(root.left)\n",
    "        postorderprint(root.right)\n",
    "        print(root.data,end=\" \")\n",
    "\n",
    "\n",
    "            \n",
    "if __name__ == \"__main__\":\n",
    "    root = Node(1)\n",
    "    root.left = Node(2)\n",
    "    root.right = Node(3)\n",
    "    root.left.left = Node(4)\n",
    "    root.left.right = Node(5)\n",
    "    root.right.left=Node(6)\n",
    "    root.right.right=Node(7)\n",
    "    \n",
    "    print(\"\\npreorder traversal of binary tree is\")\n",
    "    preorderprint(root)   \n",
    "    \n",
    "    print(\"\\nInorder traversal of binary tree is\")\n",
    "    inorderprint(root)  \n",
    "    \n",
    "    print(\"\\npreorder traversal of binary tree is\")\n",
    "    postorderprint(root)  \n",
    "    "
   ]
  },
  {
   "cell_type": "markdown",
   "id": "6bee614e",
   "metadata": {},
   "source": [
    "### 4.Function to print all the leaves in a given binary tree"
   ]
  },
  {
   "cell_type": "code",
   "execution_count": 9,
   "id": "eff7eabb",
   "metadata": {},
   "outputs": [
    {
     "name": "stdout",
     "output_type": "stream",
     "text": [
      "\n",
      "Leaves of binary tree is\n",
      "10 11 5 8 9 7 "
     ]
    }
   ],
   "source": [
    "\n",
    "class Node:\n",
    "\n",
    "    def __init__(self, data):\n",
    "        self.data = data\n",
    "        self.left = None\n",
    "        self.right = None\n",
    "\n",
    "\n",
    "def printLeafNodes(root: Node) -> None:\n",
    "\n",
    "    if (not root):\n",
    "        return\n",
    "\n",
    "    if (not root.left and not root.right):\n",
    "            print(root.data,end = \" \")\n",
    "            return\n",
    "\n",
    "\n",
    "    if root.left:\n",
    "        printLeafNodes(root.left)\n",
    "\n",
    "    if root.right:\n",
    "        printLeafNodes(root.right)\n",
    "\n",
    "if __name__=='__main__':\n",
    "    root = Node(1)\n",
    "    root.left = Node(2)\n",
    "    root.right = Node(3)\n",
    "    root.left.left = Node(4)\n",
    "    root.left.right= Node(5)\n",
    "    root.right.left= Node(6)\n",
    "    root.right.right=Node(7)\n",
    "    root.right.left.left=Node(8)\n",
    "    root.right.left.right=Node(9)\n",
    "    root.left.left.left= Node(10)\n",
    "    root.left.left.right= Node(11)\n",
    "    print(\"\\nLeaves of binary tree is\")\n",
    "\n",
    "    printLeafNodes(root)"
   ]
  },
  {
   "cell_type": "markdown",
   "id": "936ba1c3",
   "metadata": {},
   "source": [
    "### 5.Implement BFS (Breath First Search) and DFS (Depth First Search)\n",
    "### BFS is also known as Level order traversal\n",
    "### DFS can implement in three ways\n",
    "     1. Preorder Traversal\n",
    "     2. inorder Traversal\n",
    "     3. Postorder Traversal"
   ]
  },
  {
   "cell_type": "code",
   "execution_count": 11,
   "id": "2c536fb6",
   "metadata": {},
   "outputs": [
    {
     "name": "stdout",
     "output_type": "stream",
     "text": [
      "Level order traversal of binary tree is :\n",
      "1 2 3 4 15 68 7 \n",
      "preorder traversal of binary tree is\n",
      "1 2 4 15 3 68 7 \n",
      "Inorder traversal of binary tree is\n",
      "4 2 15 1 68 3 7 \n",
      "preorder traversal of binary tree is\n",
      "4 15 2 68 7 3 1 "
     ]
    }
   ],
   "source": [
    "class Node:\n",
    "    def __init__(self, key):\n",
    "        self.data = key\n",
    "        self.left = None\n",
    "        self.right = None\n",
    "\n",
    "\n",
    "def printLevelOrder(root):\n",
    "    if root is None:\n",
    "        return\n",
    " \n",
    "    queue = []\n",
    "    queue.append(root)\n",
    " \n",
    "    while(len(queue) > 0):\n",
    " \n",
    "        print(queue[0].data, end=\" \")\n",
    "        node = queue.pop(0)\n",
    " \n",
    "        if node.left is not None:\n",
    "            queue.append(node.left)\n",
    " \n",
    "        if node.right is not None:\n",
    "            queue.append(node.right)\n",
    "            \n",
    "def printdepthOrder(root):\n",
    "    if root is None:\n",
    "        return\n",
    "    stack=[]\n",
    "    stack.append(root)\n",
    "            \n",
    "def preorderprint(root):\n",
    "    if root:\n",
    "        print(root.data,end=\" \"),\n",
    "        preorderprint(root.left)\n",
    "        preorderprint(root.right)\n",
    "\n",
    "def inorderprint(root):\n",
    "    if root:\n",
    "        inorderprint(root.left)\n",
    "        print(root.data,end=\" \"),\n",
    "        inorderprint(root.right)\n",
    "                    \n",
    "def postorderprint(root):\n",
    "    if root:\n",
    "        postorderprint(root.left)\n",
    "        postorderprint(root.right)\n",
    "        print(root.data,end=\" \")\n",
    "    \n",
    "\n",
    "if __name__ == '__main__':\n",
    "    root = Node(1)\n",
    "    root.left = Node(2)\n",
    "    root.right = Node(3)\n",
    "    root.left.left = Node(4)\n",
    "    root.left.right = Node(15)\n",
    "    root.right.left=Node(68)\n",
    "    root.right.right=Node(7)\n",
    "    print(\"Level order traversal of binary tree is :\")\n",
    "    printLevelOrder(root)\n",
    "    print(\"\\npreorder traversal of binary tree is\")\n",
    "    preorderprint(root)   \n",
    "    print(\"\\nInorder traversal of binary tree is\")\n",
    "    inorderprint(root)  \n",
    "    print(\"\\npreorder traversal of binary tree is\")\n",
    "    postorderprint(root)  \n",
    "    \n",
    "\n"
   ]
  },
  {
   "cell_type": "code",
   "execution_count": null,
   "id": "8a02cf3a",
   "metadata": {},
   "outputs": [],
   "source": []
  }
 ],
 "metadata": {
  "kernelspec": {
   "display_name": "Python 3 (ipykernel)",
   "language": "python",
   "name": "python3"
  },
  "language_info": {
   "codemirror_mode": {
    "name": "ipython",
    "version": 3
   },
   "file_extension": ".py",
   "mimetype": "text/x-python",
   "name": "python",
   "nbconvert_exporter": "python",
   "pygments_lexer": "ipython3",
   "version": "3.10.9"
  }
 },
 "nbformat": 4,
 "nbformat_minor": 5
}
