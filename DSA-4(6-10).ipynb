{
 "cells": [
  {
   "cell_type": "markdown",
   "id": "920dbc66",
   "metadata": {},
   "source": [
    "### 6.Find sum of all left leaves in a given Binary Tree"
   ]
  },
  {
   "cell_type": "code",
   "execution_count": 4,
   "id": "4e61e6a5",
   "metadata": {},
   "outputs": [
    {
     "name": "stdout",
     "output_type": "stream",
     "text": [
      "sum of left leaves in given tree : 50\n"
     ]
    }
   ],
   "source": [
    "global total\n",
    "class Node:\n",
    "    def __init__(self, data):\n",
    "        self.data = data\n",
    "        self.left = None\n",
    "        self.right = None\n",
    "        \n",
    "def leafSum(root):\n",
    "    global total\n",
    "    if root is None:\n",
    "        return\n",
    "    if (root.left is None and root.right is None):\n",
    "            total += root.data\n",
    "    leafSum(root.left)\n",
    "    leafSum(root.right)\n",
    "\n",
    "if __name__=='__main__':\n",
    "    root = Node(1)\n",
    "    root.left = Node(2)\n",
    "    root.right = Node(3)\n",
    "    root.left.left = Node(4)\n",
    "    root.left.right= Node(5)\n",
    "    root.right.left= Node(6)\n",
    "    root.right.right=Node(7)\n",
    "    root.right.left.left=Node(8)\n",
    "    root.right.left.right=Node(9)\n",
    "    root.left.left.left= Node(10)\n",
    "    root.left.left.right= Node(11)\n",
    "    total=0\n",
    "\n",
    "    leafSum(root)\n",
    "    print(\"sum of node in given tree :\",total)\n"
   ]
  },
  {
   "cell_type": "markdown",
   "id": "6e239e1b",
   "metadata": {},
   "source": [
    "## 7.Find sum of all nodes of the given perfect binary tree"
   ]
  },
  {
   "cell_type": "code",
   "execution_count": 7,
   "id": "69192ad9",
   "metadata": {},
   "outputs": [
    {
     "name": "stdout",
     "output_type": "stream",
     "text": [
      "sum of left leaves in given tree : 21\n"
     ]
    }
   ],
   "source": [
    "global total\n",
    "class Node:\n",
    "    def __init__(self, data):\n",
    "        self.data = data\n",
    "        self.left = None\n",
    "        self.right = None\n",
    "        \n",
    "def nodeSum(root):\n",
    "    global total\n",
    "    if root is None:\n",
    "        return\n",
    "    if (root.left is not None and root.right is not None):\n",
    "            total += root.data\n",
    "    nodeSum(root.left)\n",
    "    nodeSum(root.right)\n",
    "\n",
    "if __name__=='__main__':\n",
    "    root = Node(1)\n",
    "    root.left = Node(2)\n",
    "    root.right = Node(3)\n",
    "    root.left.left = Node(4)\n",
    "    root.left.right= Node(5)\n",
    "    root.right.left= Node(6)\n",
    "    root.right.right=Node(7)\n",
    "    root.right.left.left=Node(8)\n",
    "    root.right.left.right=Node(9)\n",
    "    root.left.left.left= Node(10)\n",
    "    root.left.left.right= Node(11)\n",
    "    root.left.right.left=Node(12)\n",
    "    root.left.right.right=Node(13)\n",
    "    total=0\n",
    "\n",
    "    nodeSum(root)\n",
    "    print(\"sum of node in given tree :\",total)\n"
   ]
  },
  {
   "cell_type": "markdown",
   "id": "0d00672d",
   "metadata": {},
   "source": [
    "## 8.Count subtress that sum up to a given value x in a binary tree"
   ]
  },
  {
   "cell_type": "code",
   "execution_count": 39,
   "id": "07553042",
   "metadata": {},
   "outputs": [
    {
     "name": "stdout",
     "output_type": "stream",
     "text": [
      "enter the sum value:3\n",
      "sum of subtree in given tree : 0\n"
     ]
    }
   ],
   "source": [
    "class Node:\n",
    "    def __init__(self, data):\n",
    "        self.data = data\n",
    "        self.left = None\n",
    "        self.right = None\n",
    "        \n",
    "def countsubtree(root,count,x):\n",
    "    if (not root):\n",
    "        return 0\n",
    "    ls=countsubtree(root.left,count,x)\n",
    "    rs=countsubtree(root.right,count,x)\n",
    "    sum=ls+rs+root.data\n",
    "    if(sum==x):\n",
    "        count[0]+=1\n",
    "    return sum\n",
    "\n",
    "\n",
    "def checkcountsubtree(root,x):\n",
    "    if(not root):\n",
    "        return  0\n",
    "    count=[0]\n",
    "    ls=countsubtree(root.left,count,x)\n",
    "    rs=countsubtree(root.right,count,x)\n",
    "    if((ls+rs+root.data)==x):\n",
    "        count[0]+=1\n",
    "    return count[0]\n",
    "\n",
    "if __name__=='__main__':\n",
    "    root = Node(1)\n",
    "    root.left = Node(-5)\n",
    "    root.right = Node(2)\n",
    "    root.left.left = Node(4)\n",
    "    root.left.right= Node(5)\n",
    "    root.right.left= Node(6)\n",
    "    root.right.right=Node(4)\n",
    "\n",
    "    x=int(input(\"enter the sum value:\"))\n",
    "    print(\"sum of subtree in given tree :\",checkcountsubtree(root,x))\n"
   ]
  },
  {
   "cell_type": "markdown",
   "id": "22666218",
   "metadata": {},
   "source": [
    "## 9.Find maximum level sum in Binary Tree"
   ]
  },
  {
   "cell_type": "code",
   "execution_count": 7,
   "id": "c4e5b8f0",
   "metadata": {},
   "outputs": [
    {
     "name": "stdout",
     "output_type": "stream",
     "text": [
      "Maximum level sum is 22\n"
     ]
    }
   ],
   "source": [
    "class Node:\n",
    "    def __init__(self, data):\n",
    "        self.data = data\n",
    "        self.left = None\n",
    "        self.right = None\n",
    "        \n",
    "def dfs(root, level, maxx):\n",
    "    if not root:\n",
    "        return\n",
    "\n",
    "    maxx[level] = maxx.get(level, 0) + root.data\n",
    "    level += 1\n",
    "    dfs(root.left, level, maxx)\n",
    "    dfs(root.right, level, maxx)\n",
    "\n",
    "def maxLevelSum(root):\n",
    "    if not root:\n",
    "        return 0\n",
    "\n",
    "    maxx = {}\n",
    "\n",
    "    dfs(root, 0, maxx)\n",
    "    result = float('-inf')\n",
    "\n",
    "    for val in maxx.values():\n",
    "        result = max(result, val)\n",
    "\n",
    "    return result\n",
    "\n",
    "def newNode(data):\n",
    "    node = Node(data)\n",
    "    return node\n",
    "\n",
    "if __name__=='__main__':\n",
    "    root = Node(1)\n",
    "    root.left = Node(2)\n",
    "    root.right = Node(3)\n",
    "    root.left.left = Node(4)\n",
    "    root.left.right= Node(5)\n",
    "    root.right.left= Node(6)\n",
    "    root.right.right=Node(7)\n",
    "    root.right.left.left=Node(8)\n",
    "    root.right.left.right=Node(9)\n",
    "    print(\"Maximum level sum is\", maxLevelSum(root))\n"
   ]
  },
  {
   "cell_type": "markdown",
   "id": "ba02e4bc",
   "metadata": {},
   "source": [
    "## 10.Print the nodes at odd levels of a tree"
   ]
  },
  {
   "cell_type": "code",
   "execution_count": 6,
   "id": "c99541f7",
   "metadata": {},
   "outputs": [
    {
     "name": "stdout",
     "output_type": "stream",
     "text": [
      "1 4 5 6 7 "
     ]
    }
   ],
   "source": [
    "class Node:\n",
    "    def __init__(self, data):\n",
    "        self.data = data\n",
    "        self.left = None\n",
    "        self.right = None\n",
    "\n",
    "def printoddnodes(root,isodd=True):\n",
    "    if(root==None):\n",
    "        return \n",
    "    if isodd:\n",
    "        print(root.data,end=\" \")\n",
    "    printoddnodes(root.left, not isodd)\n",
    "    printoddnodes(root.right, not isodd)\n",
    "        \n",
    "\n",
    "\n",
    "if __name__=='__main__':\n",
    "    root = Node(1)\n",
    "    root.left = Node(2)\n",
    "    root.right = Node(3)\n",
    "    root.left.left = Node(4)\n",
    "    root.left.right= Node(5)\n",
    "    root.right.left= Node(6)\n",
    "    root.right.right=Node(7)\n",
    "    root.right.left.left=Node(8)\n",
    "    root.right.left.right=Node(9)\n",
    "    printoddnodes(root)"
   ]
  },
  {
   "cell_type": "code",
   "execution_count": null,
   "id": "f24b7466",
   "metadata": {},
   "outputs": [],
   "source": []
  },
  {
   "cell_type": "code",
   "execution_count": null,
   "id": "4fedd12b",
   "metadata": {},
   "outputs": [],
   "source": []
  }
 ],
 "metadata": {
  "kernelspec": {
   "display_name": "Python 3 (ipykernel)",
   "language": "python",
   "name": "python3"
  },
  "language_info": {
   "codemirror_mode": {
    "name": "ipython",
    "version": 3
   },
   "file_extension": ".py",
   "mimetype": "text/x-python",
   "name": "python",
   "nbconvert_exporter": "python",
   "pygments_lexer": "ipython3",
   "version": "3.10.9"
  }
 },
 "nbformat": 4,
 "nbformat_minor": 5
}
